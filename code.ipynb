{
 "cells": [
  {
   "cell_type": "markdown",
   "metadata": {},
   "source": [
    "<h2> Import libraries </h2>"
   ]
  },
  {
   "cell_type": "code",
   "execution_count": 1,
   "metadata": {},
   "outputs": [],
   "source": [
    "import matplotlib.pyplot as plt\n",
    "import numpy as np\n",
    "import math"
   ]
  },
  {
   "cell_type": "markdown",
   "metadata": {},
   "source": [
    "<h2>Make your own data </h2>"
   ]
  },
  {
   "cell_type": "code",
   "execution_count": 2,
   "metadata": {},
   "outputs": [],
   "source": [
    "x = np.array([[-5,1,5,30,40,90,100,105],[-8,3,10,50,70,20,100,106]])\n",
    "y  = np.array([0,0,0,0,0,0,1,1])"
   ]
  },
  {
   "cell_type": "markdown",
   "metadata": {},
   "source": [
    "<h2> Initialization </h2>"
   ]
  },
  {
   "cell_type": "code",
   "execution_count": 3,
   "metadata": {},
   "outputs": [
    {
     "name": "stdout",
     "output_type": "stream",
     "text": [
      "probability= [0.25133592 0.2937459  0.32302601 0.51427112 0.60861639 0.4758937\n",
      " 0.78106782 0.80194575]\n",
      "loss= [0.28946489 0.34778019 0.39012243 0.72210468 0.93806711 0.64606076\n",
      " 0.24709329 0.22071431]\n",
      "lossAvg= 0.4751759567828222\n",
      "w1 =  0.00564\n",
      "w2 =  0.0164\n",
      "b =  -0.9321\n",
      "x1 =  [ -5   1   5  30  40  90 100 105]\n",
      "x2 =  [ -8   3  10  50  70  20 100 106]\n"
     ]
    },
    {
     "data": {
      "image/png": "[encoded data removed]",
      "text/plain": [
       "<Figure size 432x288 with 1 Axes>"
      ]
     },
     "metadata": {
      "needs_background": "light"
     },
     "output_type": "display_data"
    }
   ],
   "source": [
    "w=np.array([0.00564,0.0164]).transpose()\n",
    "b=-0.9321\n",
    "yn = np.dot(w,x)+b#w1x1+w2x2+b\n",
    "probability = 1/(1+np.exp(-yn))\n",
    "plt.plot(x[0],x[1],'go')\n",
    "lineDot=(-b-(w[1]*x[1]))/w[0]\n",
    "plt.plot(lineDot,x[1])\n",
    "print('probability=',probability)\n",
    "loss= -(y*(np.log(probability))+((1-y)*(np.log(1-probability))))\n",
    "print(\"loss=\",loss)\n",
    "print(\"lossAvg=\",(np.sum(-(y*(np.log(probability))+((1-y)*(np.log(1-probability))))))/8)\n",
    "print(\"w1 = \",w[0])\n",
    "print(\"w2 = \",w[1])\n",
    "print(\"b = \",b)\n",
    "print(\"x1 = \",x[0])\n",
    "print(\"x2 = \",x[1])"
   ]
  },
  {
   "cell_type": "markdown",
   "metadata": {},
   "source": [
    "<h2> Training </h2>"
   ]
  },
  {
   "cell_type": "code",
   "execution_count": 7,
   "metadata": {},
   "outputs": [
    {
     "name": "stdout",
     "output_type": "stream",
     "text": [
      "0.299348707996295 0.316387314203981 -52.326728510332046\n"
     ]
    },
    {
     "data": {
      "text/plain": [
       "[<matplotlib.lines.Line2D at 0x10c424908>]"
      ]
     },
     "execution_count": 7,
     "metadata": {},
     "output_type": "execute_result"
    },
    {
     "data": {
      "image/png": "[encoded data removed]",
      "text/plain": [
       "<Figure size 432x288 with 1 Axes>"
      ]
     },
     "metadata": {
      "needs_background": "light"
     },
     "output_type": "display_data"
    }
   ],
   "source": [
    "for i in range(100000):\n",
    "    w[0]=w[0]-0.001*(np.sum((probability-y)*x[0]))/8\n",
    "    w[1]=w[1]-0.001*(np.sum((probability-y)*x[1]))/8\n",
    "    b=b-0.001*(np.sum(probability))/8\n",
    "    yn = (w[0]*x[0])+(w[1]*x[1])+b\n",
    "    probability = 1/(1+np.exp(-yn))\n",
    "print(w[0],w[1],b)\n",
    "plt.plot(x[0],x[1],'go')\n",
    "lineDot=(-b-(w[1]*x[1]))/w[0]\n",
    "plt.plot(lineDot,x[1])"
   ]
  },
  {
   "cell_type": "markdown",
   "metadata": {},
   "source": [
    "<h2> Probability of every point to be above line </h2>"
   ]
  },
  {
   "cell_type": "code",
   "execution_count": 5,
   "metadata": {},
   "outputs": [
    {
     "data": {
      "text/plain": [
       "array([1.34474375e-13, 2.78209311e-12, 1.97179413e-11, 2.04382237e-06,\n",
       "       4.32979205e-04, 1.85545868e-04, 9.99596902e-01, 9.99942133e-01])"
      ]
     },
     "execution_count": 5,
     "metadata": {},
     "output_type": "execute_result"
    }
   ],
   "source": [
    "probability"
   ]
  },
  {
   "cell_type": "code",
   "execution_count": null,
   "metadata": {},
   "outputs": [],
   "source": []
  }
 ],
 "metadata": {
  "kernelspec": {
   "display_name": "Python 3",
   "language": "python",
   "name": "python3"
  },
  "language_info": {
   "codemirror_mode": {
    "name": "ipython",
    "version": 3
   },
   "file_extension": ".py",
   "mimetype": "text/x-python",
   "name": "python",
   "nbconvert_exporter": "python",
   "pygments_lexer": "ipython3",
   "version": "3.7.1"
  }
 },
 "nbformat": 4,
 "nbformat_minor": 2
}
